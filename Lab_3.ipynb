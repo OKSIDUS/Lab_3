{
 "cells": [
  {
   "cell_type": "code",
   "execution_count": 26,
   "id": "9a4ca154",
   "metadata": {},
   "outputs": [],
   "source": [
    "import pandas as pd"
   ]
  },
  {
   "cell_type": "code",
   "execution_count": 5,
   "id": "5a6f6cbe",
   "metadata": {
    "scrolled": false
   },
   "outputs": [],
   "source": [
    "import numpy as np\n",
    "import re \n",
    "\n",
    "df = pd.read_excel('En_In.xls', skiprows = 17, skipfooter = 38, usecols = [2, 3, 4, 5])\n",
    "\n",
    "df = df.rename(columns={'Unnamed: 2':'Country', 'Petajoules':'Energy Supply', 'Gigajoules':'Energy Supply per Capita', '%':'% Renewable'})\n",
    "\n",
    "df['Energy Supply'] = pd.to_numeric(df['Energy Supply'], errors='coerce') * 1000000\n",
    "\n",
    "df['Energy Supply per Capita'] = df['Energy Supply per Capita'].apply(lambda x: np.NaN if x == '...' else x)\n",
    "\n",
    "df['% Renewable'] = df['% Renewable'].round(3)\n",
    "\n",
    "pd.options.display.float_format = lambda x: '{:,.3f}'.format(x) if x == df['Energy Supply'].iloc[1] else '{:,.2f}'.format(x)\n",
    "\n",
    "country_rename = {\n",
    "    \"Republic of Korea\": \"South Korea\",\n",
    "\"United States of America\": \"United States\", \n",
    "\"United Kingdom of Great Britain and Northern Ireland\": \"United Kingdom\",\n",
    "\"China, Hong Kong Special Administrative Region\": \"Hong Kong\"\n",
    "}\n",
    "\n",
    "df['Country'] = df['Country'].replace(country_rename)\n",
    "\n",
    "def remove_parentheses_and_digits(country):\n",
    "    return re.sub(r'\\([^)]*\\)|\\d+', '', country)\n",
    "\n",
    "df['Country'] = df['Country'].apply(remove_parentheses_and_digits)"
   ]
  },
  {
   "cell_type": "code",
   "execution_count": 79,
   "id": "ca93be59",
   "metadata": {
    "scrolled": true
   },
   "outputs": [
    {
     "data": {
      "text/html": [
       "<div>\n",
       "<style scoped>\n",
       "    .dataframe tbody tr th:only-of-type {\n",
       "        vertical-align: middle;\n",
       "    }\n",
       "\n",
       "    .dataframe tbody tr th {\n",
       "        vertical-align: top;\n",
       "    }\n",
       "\n",
       "    .dataframe thead th {\n",
       "        text-align: right;\n",
       "    }\n",
       "</style>\n",
       "<table border=\"1\" class=\"dataframe\">\n",
       "  <thead>\n",
       "    <tr style=\"text-align: right;\">\n",
       "      <th></th>\n",
       "      <th>Country</th>\n",
       "      <th>Energy Supply</th>\n",
       "      <th>Energy Supply per Capita</th>\n",
       "      <th>% Renewable</th>\n",
       "    </tr>\n",
       "  </thead>\n",
       "  <tbody>\n",
       "    <tr>\n",
       "      <th>3</th>\n",
       "      <td>American Samoa</td>\n",
       "      <td>NaN</td>\n",
       "      <td>NaN</td>\n",
       "      <td>0.64</td>\n",
       "    </tr>\n",
       "    <tr>\n",
       "      <th>24</th>\n",
       "      <td>Bolivia</td>\n",
       "      <td>336,000,000.00</td>\n",
       "      <td>32.00</td>\n",
       "      <td>31.48</td>\n",
       "    </tr>\n",
       "    <tr>\n",
       "      <th>164</th>\n",
       "      <td>South Korea</td>\n",
       "      <td>11,007,000,000.00</td>\n",
       "      <td>221.00</td>\n",
       "      <td>2.28</td>\n",
       "    </tr>\n",
       "  </tbody>\n",
       "</table>\n",
       "</div>"
      ],
      "text/plain": [
       "            Country     Energy Supply  Energy Supply per Capita  % Renewable\n",
       "3    American Samoa               NaN                       NaN         0.64\n",
       "24         Bolivia     336,000,000.00                     32.00        31.48\n",
       "164     South Korea 11,007,000,000.00                    221.00         2.28"
      ]
     },
     "execution_count": 79,
     "metadata": {},
     "output_type": "execute_result"
    }
   ],
   "source": [
    "df.loc[df['Country'].isin(['American Samoa', 'South Korea', 'Bolivia '])]"
   ]
  },
  {
   "cell_type": "code",
   "execution_count": 6,
   "id": "97921bcb",
   "metadata": {},
   "outputs": [
    {
     "name": "stdout",
     "output_type": "stream",
     "text": [
      "  Country Country Code                            Indicator Name  \\\n",
      "0   Aruba          ABW  GDP at market prices (constant 2010 US$)   \n",
      "\n",
      "   Indicator Code  2006  2007  2008  2009             2010  2011  2012  2013  \\\n",
      "0  NY.GDP.MKTP.KD   NaN   NaN   NaN   NaN 2,467,703,910.61   NaN   NaN   NaN   \n",
      "\n",
      "   2014  2015  \n",
      "0   NaN   NaN  \n"
     ]
    }
   ],
   "source": [
    "import pandas as pd\n",
    "gpd_df = pd.read_csv('gpd.csv', skiprows = 4)\n",
    "\n",
    "country_rename = {\n",
    "    \"Korea, Rep.\": \"South Korea\",\n",
    "    \"Iran, Islamic Rep.\": \"Iran\",\n",
    "    \"Hong Kong SAR, China\": \"Hong Kong\"\n",
    "}\n",
    "\n",
    "gpd_df = gpd_df.rename(columns={\"Country Name\": \"Country\"})\n",
    "gpd_df.iloc[0] = gpd_df.iloc[0].replace(country_rename)\n",
    "\n",
    "gpd_df = gpd_df[gpd_df.columns[gpd_df.columns.astype(str) >= '2006']]\n",
    "\n",
    "print(gpd_df.head(1))"
   ]
  },
  {
   "cell_type": "code",
   "execution_count": 7,
   "id": "c515239f",
   "metadata": {},
   "outputs": [
    {
     "name": "stdout",
     "output_type": "stream",
     "text": [
      "   Rank             Country  Documents  Citable documents  Citations  \\\n",
      "0     1               China     127050             126767     597237   \n",
      "1     2       United States      96661              94747     792274   \n",
      "2     3               Japan      30504              30287     223024   \n",
      "3     4      United Kingdom      20944              20357     206091   \n",
      "4     5  Russian Federation      18534              18301      34266   \n",
      "\n",
      "   Self-citations  Citations per document  H index  \n",
      "0          411683                    4.70      138  \n",
      "1          265436                    8.20      230  \n",
      "2           61554                    7.31      134  \n",
      "3           37874                    9.84      139  \n",
      "4           12422                    1.85       57  \n"
     ]
    }
   ],
   "source": [
    "import pandas as pd\n",
    "\n",
    "scimagojr_df = pd.read_excel(\"scimagojr.xlsx\")\n",
    "\n",
    "\n",
    "print(scimagojr_df.head())"
   ]
  },
  {
   "cell_type": "code",
   "execution_count": 10,
   "id": "e68ec1a3",
   "metadata": {},
   "outputs": [
    {
     "name": "stdout",
     "output_type": "stream",
     "text": [
      "                    Rank  Documents  Citable documents  Citations  \\\n",
      "Country                                                             \n",
      "China                  1     127050             126767     597237   \n",
      "United States          2      96661              94747     792274   \n",
      "Japan                  3      30504              30287     223024   \n",
      "United Kingdom         4      20944              20357     206091   \n",
      "Russian Federation     5      18534              18301      34266   \n",
      "\n",
      "                    Self-citations  Citations per document  H index  \\\n",
      "Country                                                               \n",
      "China                       411683                    4.70      138   \n",
      "United States               265436                    8.20      230   \n",
      "Japan                        61554                    7.31      134   \n",
      "United Kingdom               37874                    9.84      139   \n",
      "Russian Federation           12422                    1.85       57   \n",
      "\n",
      "                        Energy Supply  Energy Supply per Capita  % Renewable  \\\n",
      "Country                                                                        \n",
      "China              127,191,000,000.00                     93.00        19.75   \n",
      "United States                     NaN                       NaN          NaN   \n",
      "Japan               18,984,000,000.00                    149.00        10.23   \n",
      "United Kingdom                    NaN                       NaN          NaN   \n",
      "Russian Federation  30,709,000,000.00                    214.00        17.29   \n",
      "\n",
      "                                    2006                  2007  \\\n",
      "Country                                                          \n",
      "China               3,992,331,462,570.89  4,559,041,383,517.93   \n",
      "United States      14,792,303,791,800.00 15,055,395,304,800.00   \n",
      "Japan               5,496,541,517,363.31  5,617,035,943,770.73   \n",
      "United Kingdom      2,419,630,700,401.73  2,482,203,235,475.90   \n",
      "Russian Federation  1,385,792,607,182.58  1,504,071,117,741.30   \n",
      "\n",
      "                                    2008                  2009  \\\n",
      "Country                                                          \n",
      "China               4,997,775,145,605.96  5,459,247,267,275.14   \n",
      "United States      15,011,490,541,400.00 14,594,842,181,900.00   \n",
      "Japan               5,558,526,873,313.82  5,251,308,399,909.32   \n",
      "United Kingdom      2,470,614,405,284.30  2,367,047,611,711.99   \n",
      "Russian Federation  1,583,004,071,092.11  1,459,199,142,720.26   \n",
      "\n",
      "                                    2010                  2011  \\\n",
      "Country                                                          \n",
      "China               6,039,658,508,485.59  6,612,490,294,273.65   \n",
      "United States      14,964,372,000,000.00 15,204,019,634,600.00   \n",
      "Japan               5,498,717,815,809.77  5,473,738,114,222.05   \n",
      "United Kingdom      2,403,504,326,328.80  2,450,911,011,124.85   \n",
      "Russian Federation  1,524,917,468,442.01  1,589,942,641,764.29   \n",
      "\n",
      "                                    2012                  2013  \\\n",
      "Country                                                          \n",
      "China               7,124,977,970,399.61  7,672,447,738,017.42   \n",
      "United States      15,542,161,722,300.00 15,773,666,098,800.00   \n",
      "Japan               5,569,101,602,926.18  5,644,658,523,313.42   \n",
      "United Kingdom      2,479,808,627,472.19  2,533,370,110,012.36   \n",
      "Russian Federation  1,645,875,899,596.27  1,666,934,123,163.16   \n",
      "\n",
      "                                    2014                  2015  \n",
      "Country                                                         \n",
      "China               8,230,120,617,793.52  8,797,998,940,421.28  \n",
      "United States      16,156,618,476,000.00 16,548,573,278,300.00  \n",
      "Japan               5,642,884,448,582.19  5,669,563,143,140.97  \n",
      "United Kingdom      2,605,643,189,894.93  2,666,333,396,477.13  \n",
      "Russian Federation  1,678,708,855,070.86  1,616,148,858,033.77  \n"
     ]
    }
   ],
   "source": [
    "import pandas as pd\n",
    "\n",
    "merged_df = pd.merge(scimagojr_df[:15], gpd_df, how='left', left_on='Country', right_on='Country')\n",
    "merged_df = pd.merge(merged_df, df, how='left', left_on='Country', right_on='Country')\n",
    "\n",
    "columns_to_keep = ['Country','Rank', 'Documents', 'Citable documents', 'Citations', 'Self-citations',\n",
    "                   'Citations per document', 'H index', 'Energy Supply', 'Energy Supply per Capita', '% Renewable',\n",
    "                   '2006', '2007', '2008', '2009', '2010', '2011', '2012', '2013', '2014', '2015']\n",
    "result_df = merged_df[columns_to_keep].set_index('Country')\n",
    "\n",
    "\n",
    "print(result_df.head())"
   ]
  },
  {
   "cell_type": "code",
   "execution_count": 9,
   "id": "4a64527e",
   "metadata": {},
   "outputs": [
    {
     "data": {
      "text/plain": [
       "(15, 20)"
      ]
     },
     "execution_count": 9,
     "metadata": {},
     "output_type": "execute_result"
    }
   ],
   "source": [
    "result_df.shape"
   ]
  },
  {
   "cell_type": "code",
   "execution_count": 90,
   "id": "92f6799c",
   "metadata": {},
   "outputs": [
    {
     "name": "stdout",
     "output_type": "stream",
     "text": [
      "Country\n",
      "United States        15,364,344,302,990.00\n",
      "China                 5,771,462,666,216.43\n",
      "Japan                 5,038,370,580,214.73\n",
      "Germany               3,175,477,580,976.94\n",
      "United Kingdom        2,487,906,661,418.42\n",
      "France                2,437,931,487,057.54\n",
      "Brazil                1,990,721,948,892.61\n",
      "Italy                 1,927,431,899,942.86\n",
      "India                 1,608,452,178,732.14\n",
      "Canada                1,509,679,514,830.64\n",
      "Russian Federation    1,423,144,980,438.54\n",
      "Spain                 1,289,162,071,044.99\n",
      "Australia             1,058,220,663,629.64\n",
      "South Korea                           2.28\n",
      "Iran                                   NaN\n",
      "dtype: float64\n"
     ]
    }
   ],
   "source": [
    "def task_eight():\n",
    "    result_df[result_df.columns[9:]] = result_df[result_df.columns[9:]].apply(pd.to_numeric, errors='coerce')\n",
    "    result_series = result_df[result_df.columns[9:]].mean(axis=1).sort_values(ascending=False)\n",
    "    return result_series\n",
    "\n",
    "result = task_eight()\n",
    "print(result)"
   ]
  },
  {
   "cell_type": "code",
   "execution_count": 92,
   "id": "a903a7af",
   "metadata": {},
   "outputs": [
    {
     "name": "stdout",
     "output_type": "stream",
     "text": [
      "('France', 153345695364.24023)\n"
     ]
    }
   ],
   "source": [
    "def task_nine():\n",
    "    avg_gdp_series = task_eight()\n",
    "    country_name = avg_gdp_series.index[5]\n",
    "    gdp_values = result_df.loc[country_name, '2006':'2015']\n",
    "    gdp_change = gdp_values['2015'] - gdp_values['2006']\n",
    "    return country_name, gdp_change\n",
    "\n",
    "result = task_nine()\n",
    "print(result)"
   ]
  },
  {
   "cell_type": "code",
   "execution_count": 94,
   "id": "6d0cce9c",
   "metadata": {},
   "outputs": [
    {
     "name": "stdout",
     "output_type": "stream",
     "text": [
      "('Brazil', 69.648)\n"
     ]
    }
   ],
   "source": [
    "def task_ten():\n",
    "    max_renewable_country = merged_df.loc[merged_df['% Renewable'].idxmax(), 'Country']\n",
    "    max_renewable_percentage = merged_df['% Renewable'].max()\n",
    "    return max_renewable_country, max_renewable_percentage\n",
    "\n",
    "result = task_ten()\n",
    "print(result)"
   ]
  },
  {
   "cell_type": "code",
   "execution_count": 98,
   "id": "e9a657e5",
   "metadata": {},
   "outputs": [
    {
     "name": "stdout",
     "output_type": "stream",
     "text": [
      "('Germany', 80369696.96969697)\n"
     ]
    }
   ],
   "source": [
    "def task_eleven():\n",
    "    merged_df['Population Estimate'] = merged_df['Energy Supply'] / merged_df['Energy Supply per Capita']\n",
    "    merged_df.sort_values(by='Population Estimate', ascending=False, inplace=True)\n",
    "    \n",
    "    country_name = merged_df.iloc[5]['Country']\n",
    "    population = merged_df.iloc[5]['Population Estimate']\n",
    "    \n",
    "    return country_name, population\n",
    "\n",
    "result = task_eleven()\n",
    "print(result)\n"
   ]
  },
  {
   "cell_type": "code",
   "execution_count": 100,
   "id": "fc28aa53",
   "metadata": {},
   "outputs": [
    {
     "name": "stdout",
     "output_type": "stream",
     "text": [
      "0.8627253903596998\n"
     ]
    }
   ],
   "source": [
    "def task_twelve():\n",
    "    merged_df['Citations per Capita'] = merged_df['Citable documents'] / (merged_df['Energy Supply'] / merged_df['Energy Supply per Capita'])\n",
    "    correlation_value = merged_df['Citations per Capita'].corr(merged_df['Energy Supply per Capita'])\n",
    "    \n",
    "    return correlation_value\n",
    "\n",
    "result = task_twelve()\n",
    "print(result)\n"
   ]
  },
  {
   "cell_type": "code",
   "execution_count": 102,
   "id": "dfd2f520",
   "metadata": {},
   "outputs": [
    {
     "name": "stdout",
     "output_type": "stream",
     "text": [
      "Country\n",
      "China                 1\n",
      "United States         0\n",
      "Japan                 0\n",
      "United Kingdom        0\n",
      "Russian Federation    0\n",
      "Canada                1\n",
      "Germany               1\n",
      "India                 0\n",
      "France                0\n",
      "South Korea           0\n",
      "Italy                 1\n",
      "Spain                 1\n",
      "Iran                  0\n",
      "Australia             0\n",
      "Brazil                1\n",
      "Name: High Renewable, dtype: int32\n"
     ]
    }
   ],
   "source": [
    "def task_thirteen():\n",
    "    median_renewable = merged_df['% Renewable'].median()\n",
    "    merged_df['High Renewable'] = (merged_df['% Renewable'] >= median_renewable).astype(int)\n",
    "    result_series = merged_df.sort_values(by='Rank')[['Country', 'High Renewable']].set_index('Country')['High Renewable']\n",
    "    \n",
    "    return result_series\n",
    "\n",
    "result = task_thirteen()\n",
    "print(result)\n"
   ]
  }
 ],
 "metadata": {
  "kernelspec": {
   "display_name": "Python 3 (ipykernel)",
   "language": "python",
   "name": "python3"
  },
  "language_info": {
   "codemirror_mode": {
    "name": "ipython",
    "version": 3
   },
   "file_extension": ".py",
   "mimetype": "text/x-python",
   "name": "python",
   "nbconvert_exporter": "python",
   "pygments_lexer": "ipython3",
   "version": "3.11.5"
  }
 },
 "nbformat": 4,
 "nbformat_minor": 5
}
